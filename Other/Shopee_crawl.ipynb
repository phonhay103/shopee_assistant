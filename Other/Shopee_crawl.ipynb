{
 "cells": [
  {
   "cell_type": "code",
   "execution_count": 1,
   "metadata": {},
   "outputs": [],
   "source": [
    "#!pip install numpy==1.19.3\n",
    "#!pip install pandas==1.1.4\n",
    "#!pip install selenium==3.141.0\n",
    "#!pip install openpyxl\n",
    "#!pip install psycopg2"
   ]
  },
  {
   "cell_type": "code",
   "execution_count": 2,
   "metadata": {},
   "outputs": [],
   "source": [
    "import pandas as pd\n",
    "import numpy as np\n",
    "import time\n",
    "import datetime\n",
    "import psycopg2\n",
    "from selenium import webdriver\n",
    "from selenium.webdriver.chrome.options import Options\n",
    "\n",
    "chrome_options = Options()\n",
    "# chrome_options.add_argument(\"--incognito\")\n",
    "chrome_options.add_argument(\"--start-maximized\")"
   ]
  },
  {
   "cell_type": "markdown",
   "metadata": {},
   "source": [
    "## Lấy thông tin của một sản phẩm"
   ]
  },
  {
   "cell_type": "code",
   "execution_count": 3,
   "metadata": {},
   "outputs": [],
   "source": [
    "def get_item_info(shop_id, item_id):\n",
    "    url = f'https://shopee.vn/product/{shop_id}/{item_id}'\n",
    "    driver.get(url)\n",
    "#     time.sleep(1)\n",
    "\n",
    "    # Name\n",
    "    while True:\n",
    "        e = driver.find_elements_by_css_selector('.OSgLcw')\n",
    "        if e:\n",
    "            item_name = e[0].text\n",
    "            break\n",
    "\n",
    "    # Min Price\n",
    "    while True:\n",
    "        e = driver.find_elements_by_css_selector('._3n5NQx')\n",
    "        if e and e[0].text != '':\n",
    "            item_price = e[0].text.split()[0]\n",
    "            item_price = int(item_price[1:].replace('.', ''))\n",
    "            break\n",
    "\n",
    "    # Brand\n",
    "#     while True:\n",
    "    e = driver.find_elements_by_css_selector('._2H-513')\n",
    "    if e:\n",
    "        item_brand_name = e[0].text\n",
    "    else:\n",
    "        item_brand_name = 'No Brand'\n",
    "#             break\n",
    "\n",
    "    # Last category\n",
    "    while True:\n",
    "        e = driver.find_elements_by_css_selector('.JFOy4z')\n",
    "        if e:\n",
    "            item_category = int(e[-1].get_attribute('href').split('.')[-1])\n",
    "            break\n",
    "\n",
    "    # Sold\n",
    "    while True:\n",
    "        e = driver.find_elements_by_css_selector('._22sp0A')\n",
    "        if e:\n",
    "            num_of_sold = e[0].text.replace('(', '').replace(')', '').split()[-1].replace(',', '.')\n",
    "            if num_of_sold[-1] == 'k':\n",
    "                num_of_sold = int(float(num_of_sold.replace('k', '')) * 1000)\n",
    "            else:\n",
    "                num_of_sold = int(num_of_sold.replace('k', ''))\n",
    "            break\n",
    "     \n",
    "    # Favourite\n",
    "    while True:\n",
    "        e = driver.find_elements_by_css_selector('._1-aYcb')\n",
    "        if e:\n",
    "            if len(e) > 1:\n",
    "                num_of_fav = e[1].text.replace('(', '').replace(')', '').split()[-1].replace(',', '.')\n",
    "                if num_of_fav[-1] == 'k':\n",
    "                    num_of_fav = int(float(num_of_fav.replace('k', '')) * 1000)\n",
    "                else:\n",
    "                    num_of_fav = int(num_of_fav.replace('k', ''))\n",
    "            else:\n",
    "                num_of_fav = 0\n",
    "            break\n",
    "\n",
    "    # Rating\n",
    "    d = 0\n",
    "    while True:\n",
    "        if d == 50:\n",
    "            if driver.find_elements_by_css_selector('.product-ratings-comments-view__no-data__text'):\n",
    "                _5_star, _4_star, _3_star, _2_star, _1_star = (0, 0, 0, 0, 0)\n",
    "                break\n",
    "            else:\n",
    "                d = 0\n",
    "\n",
    "        if not driver.find_elements_by_css_selector('._3Oj5_n'):\n",
    "            _5_star, _4_star, _3_star, _2_star, _1_star = (0, 0, 0, 0, 0)\n",
    "            break\n",
    "\n",
    "        d += 1\n",
    "        driver.execute_script(f\"window.scrollTo(0, {d * 100})\")\n",
    "        e = driver.find_elements_by_css_selector('.product-rating-overview__filter')\n",
    "        if e:\n",
    "            e = [i.text.split()[-1].replace('(', '').replace(')', '').replace(',', '.') for i in e[1:6]]\n",
    "            e = tuple(int(float(i.replace('k', '')) * 1000) if i[-1] == 'k' else int(i.replace('k', '')) \\\n",
    "                    for i in e)\n",
    "            _5_star, _4_star, _3_star, _2_star, _1_star = e\n",
    "            break\n",
    "\n",
    "    return [str(item_id), item_name, item_price, item_brand_name, str(shop_id), item_category, num_of_fav, num_of_sold, _5_star, _4_star, _3_star, _2_star, _1_star]"
   ]
  },
  {
   "cell_type": "markdown",
   "metadata": {},
   "source": [
    "## Lấy thông tin tất cả sản phẩm của một shop"
   ]
  },
  {
   "cell_type": "code",
   "execution_count": 4,
   "metadata": {},
   "outputs": [],
   "source": [
    "def get_shop_items_id(shop_id):\n",
    "    url = f'https://shopee.vn/shop/{shop_id}/search'\n",
    "    driver.get(url)\n",
    "    time.sleep(1)\n",
    "\n",
    "    while True:\n",
    "        e = driver.find_elements_by_css_selector('.shopee-mini-page-controller__total')\n",
    "        if e:\n",
    "            total_pages = int(e[0].text)\n",
    "            break\n",
    "\n",
    "    all_items_id = []\n",
    "    for i in range(total_pages):\n",
    "        a_page = url + f'?page={i}&sortBy=pop'\n",
    "        driver.get(a_page)\n",
    "        time.sleep(1)\n",
    "\n",
    "        all_items = driver.find_elements_by_xpath('//a[@data-sqe=\"link\"]')\n",
    "        all_items_id += [i.get_attribute('href').split('.')[-1] for i in all_items]\n",
    "    return all_items_id\n",
    "\n",
    "def get_shop_items(shop_id):\n",
    "    items_id = get_shop_items_id(shop_id)\n",
    "    return [get_item_info(shop_id, item_id) for item_id in items_id]\n",
    "\n",
    "def get_a_shop(shop_id):\n",
    "    data = get_shop_items(shop_id)\n",
    "    df = pd.DataFrame(data, columns = ['ID', 'Name', 'Price', 'Brand', 'ID_shop', 'Category', 'Num_of_fav', 'Num_of_sold', '5_star', '4_star', '3_star', '2_star', '1_star'])\n",
    "    df.set_index('ID', inplace=True)\n",
    "    df.to_excel(f'1_{shop_id}.xlsx')"
   ]
  },
  {
   "cell_type": "markdown",
   "metadata": {},
   "source": [
    "### Nhập Categories vào database"
   ]
  },
  {
   "cell_type": "code",
   "execution_count": null,
   "metadata": {},
   "outputs": [],
   "source": [
    "# df = pd.read_excel('Category_Complete.xlsx', engine='openpyxl')\n",
    "# df.astype({'ID':str, 'Name':str, 'Parent':str})\n",
    "\n",
    "# with psycopg2.connect(host=\"localhost\",\n",
    "#                       database=\"CSDL\",\n",
    "#                       user=\"postgres\",\n",
    "#                       password=\"phonhay103\",\n",
    "#                       port=\"5433\") as conn:\n",
    "#     conn.autocommit = True\n",
    "#     cur = conn.cursor()\n",
    "\n",
    "#     for i in range(len(df)):\n",
    "#         row = list(np.asarray(df.iloc[i]))\n",
    "#         cur.execute('INSERT INTO categories VALUES (%s, %s, %s);', (int(row[0]), row[1], int(row[2])))\n",
    "#     cur.close()"
   ]
  },
  {
   "cell_type": "markdown",
   "metadata": {},
   "source": [
    "### Nhập Cities vào database"
   ]
  },
  {
   "cell_type": "code",
   "execution_count": null,
   "metadata": {},
   "outputs": [],
   "source": [
    "# df = pd.read_excel('City_Complete.xlsx', engine='\n",
    "\n",
    "\n",
    "..................................openpyxl')\n",
    "# df.astype({'ID':str, 'Name':str})\n",
    "\n",
    "# with psycopg2.connect(host=\"localhost\",\n",
    "#                       database=\"CSDL\",\n",
    "#                       user=\"postgres\",\n",
    "#                       password=\"phonhay103\",\n",
    "#                       port=\"5433\") as conn:\n",
    "#     conn.autocommit = True\n",
    "#     cur = conn.cursor()\n",
    "\n",
    "#     for i in range(len(df)):\n",
    "#         row = list(np.asarray(df.iloc[i]))\n",
    "#         cur.execute('INSERT INTO cities VALUES (%s, %s);', (row[0], row[1]))\n",
    "#     cur.close()"
   ]
  }
 ],
 "metadata": {
  "kernelspec": {
   "display_name": "Python 3",
   "language": "python",
   "name": "python3"
  },
  "language_info": {
   "codemirror_mode": {
    "name": "ipython",
    "version": 3
   },
   "file_extension": ".py",
   "mimetype": "text/x-python",
   "name": "python",
   "nbconvert_exporter": "python",
   "pygments_lexer": "ipython3",
   "version": "3.9.0"
  }
 },
 "nbformat": 4,
 "nbformat_minor": 4
}
